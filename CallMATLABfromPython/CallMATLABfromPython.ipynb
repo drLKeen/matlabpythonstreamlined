{
 "cells": [
  {
   "cell_type": "markdown",
   "metadata": {},
   "source": [
    "# Predict Air Quality: Calling MATLAB from Python Using MATLAB Engine API"
   ]
  },
  {
   "cell_type": "markdown",
   "metadata": {},
   "source": [
    "Import the weather data and use the MATLAB code to predict air quality.\n",
    "\n",
    "This example uses the MATLAB Engine API, which runs a MATLAB session. More info and set up instructions are included here: https://www.mathworks.com/help/matlab/matlab-engine-for-python.html\n",
    "\n",
    "In order to connect to MATLAB with Python, you have to install the MATLAB Engine API for Python:\n",
    "\n",
    "Search for the *matlabroot* where MATLAB is installed, and execute the install function from the setup.py python library.\n",
    "On Windows, it would look like this:\n",
    "\n",
    "```\n",
    "cd \"C:\\Program Files\\MATLAB\\R2024a\\extern\\engines\\python\"\n",
    "python setup.py install\n",
    "```\n",
    "\n",
    "In Windows, you have to have administrator privileges to do this (sometimes?)!"
   ]
  },
  {
   "cell_type": "code",
   "execution_count": null,
   "metadata": {},
   "outputs": [],
   "source": [
    "f = open(\"accessKey.txt\", \"r\")\n",
    "for r in f:\n",
    "    apikey = f.readline()\n",
    "f.close()"
   ]
  },
  {
   "cell_type": "markdown",
   "metadata": {},
   "source": [
    "## Read the current weather data"
   ]
  },
  {
   "cell_type": "code",
   "execution_count": null,
   "metadata": {},
   "outputs": [],
   "source": [
    "import weather as weather\n",
    "\n",
    "json_data = weather.get_current_weather(\"Boston\",\"US\",apikey)\n",
    "data = weather.parse_current_json(json_data)\n",
    "print(data)"
   ]
  },
  {
   "cell_type": "markdown",
   "metadata": {},
   "source": [
    "## Start MATLAB through the MATLAB Engine API."
   ]
  },
  {
   "cell_type": "code",
   "execution_count": null,
   "metadata": {},
   "outputs": [],
   "source": [
    "#cd \"C:\\Program Files\\MATLAB\\R2024a\\extern\\engines\\python\"\n",
    "#python -m pip install matlabengine\n",
    "\n",
    "import matlab.engine"
   ]
  },
  {
   "cell_type": "code",
   "execution_count": null,
   "metadata": {},
   "outputs": [],
   "source": [
    "#m = matlab.engine.start_matlab()\n",
    "m = matlab.enging.start_matlab(\"-desktop\")\n",
    "#names = matlab.engine.find_matlab()\n",
    "#print(names)\n",
    "#m = matlab.engine.connect_matlab('MATLAB_26636')"
   ]
  },
  {
   "cell_type": "markdown",
   "metadata": {},
   "source": [
    "Test a simple function"
   ]
  },
  {
   "cell_type": "code",
   "execution_count": null,
   "metadata": {},
   "outputs": [],
   "source": [
    "x = m.sqrt(42) # error\n",
    "#x = m.sqrt(float(42))\n",
    "print(x)"
   ]
  },
  {
   "cell_type": "markdown",
   "metadata": {},
   "source": [
    "Print the MATLAB working directory"
   ]
  },
  {
   "cell_type": "code",
   "execution_count": null,
   "metadata": {},
   "outputs": [],
   "source": [
    "m.pwd()"
   ]
  },
  {
   "cell_type": "markdown",
   "metadata": {},
   "source": [
    "Specify number of output arguments "
   ]
  },
  {
   "cell_type": "code",
   "execution_count": null,
   "metadata": {},
   "outputs": [],
   "source": [
    "x = m.gcd(10,5,nargout=2)\n",
    "print(x)"
   ]
  },
  {
   "cell_type": "code",
   "execution_count": null,
   "metadata": {},
   "outputs": [],
   "source": [
    "x[0]"
   ]
  },
  {
   "cell_type": "markdown",
   "metadata": {},
   "source": [
    "Play around (easter eggs)"
   ]
  },
  {
   "cell_type": "code",
   "execution_count": null,
   "metadata": {},
   "outputs": [],
   "source": [
    "m.spy(nargout=0)"
   ]
  },
  {
   "cell_type": "code",
   "execution_count": null,
   "metadata": {},
   "outputs": [],
   "source": [
    "m.life(nargout=0)"
   ]
  },
  {
   "cell_type": "markdown",
   "metadata": {},
   "source": [
    "Retrieve plot from MATLAB/Python data"
   ]
  },
  {
   "cell_type": "code",
   "execution_count": null,
   "metadata": {},
   "outputs": [],
   "source": [
    "a = float(0)\n",
    "b = float(10)\n",
    "x = m.linspace(a,b)\n",
    "y = m.sin(x)"
   ]
  },
  {
   "cell_type": "code",
   "execution_count": null,
   "metadata": {},
   "outputs": [],
   "source": [
    "import math\n",
    "x = list(range(10))\n",
    "y = [math.sin(i) for i in x]\n",
    "# Data conversion\n",
    "x = matlab.double(x)\n",
    "y = matlab.double(y)"
   ]
  },
  {
   "cell_type": "code",
   "execution_count": null,
   "metadata": {},
   "outputs": [],
   "source": [
    "from IPython.display import Image\n",
    "plotName = 'myPlot'\n",
    "m.plot_print(x,y,plotName, nargout=0)\n",
    "Image(filename = plotName+\".jpg\")"
   ]
  },
  {
   "cell_type": "markdown",
   "metadata": {},
   "source": [
    "## Call ML apps"
   ]
  },
  {
   "cell_type": "code",
   "execution_count": null,
   "metadata": {},
   "outputs": [],
   "source": [
    "import numpy as np\n",
    "X = np.random.rand(1000,2)\n",
    "y = np.dot(X, np.array([3,2])) + 0.5 # 3*x1 + 2*x2 + 1/2"
   ]
  },
  {
   "cell_type": "code",
   "execution_count": null,
   "metadata": {},
   "outputs": [],
   "source": [
    "# Convert Numpy array to list to MATLAB Double\n",
    "X_ml = matlab.double(X.tolist())\n",
    "y_ml = matlab.double(y.tolist())\n",
    "y_ml.reshape((y.size,1))"
   ]
  },
  {
   "cell_type": "code",
   "execution_count": null,
   "metadata": {},
   "outputs": [],
   "source": [
    "m.regressionLearner(X_ml, y_ml, nargout=0)"
   ]
  },
  {
   "cell_type": "code",
   "execution_count": null,
   "metadata": {},
   "outputs": [],
   "source": [
    "res = m.trainRegressionModel(X_ml, y_ml, nargout=2)"
   ]
  },
  {
   "cell_type": "code",
   "execution_count": null,
   "metadata": {},
   "outputs": [],
   "source": [
    "# Outputs a Python dict - struct back in MATLAB\n",
    "import pprint as pp\n",
    "pp.pprint(res[0])"
   ]
  },
  {
   "cell_type": "code",
   "execution_count": null,
   "metadata": {},
   "outputs": [],
   "source": [
    "predFcn = res[0].get('predictFcn')"
   ]
  },
  {
   "cell_type": "code",
   "execution_count": null,
   "metadata": {},
   "outputs": [],
   "source": [
    "# Test the model\n",
    "X_test = np.array([-1,2])\n",
    "X_test = matlab.double(X_test.tolist())\n",
    "y_test = m.feval(predFcn, X_test)  # 3*x1 + 2*x2 + 1/2\n",
    "y_test "
   ]
  },
  {
   "cell_type": "code",
   "execution_count": null,
   "metadata": {},
   "outputs": [],
   "source": [
    "m.exit()"
   ]
  },
  {
   "cell_type": "markdown",
   "metadata": {},
   "source": [
    "## Predict air quality"
   ]
  },
  {
   "cell_type": "markdown",
   "metadata": {},
   "source": [
    "connect to an existing MATLAB session:\n",
    "* `matlab.engine.shareEngine`\n",
    "* `matlab.engine.engineName`"
   ]
  },
  {
   "cell_type": "code",
   "execution_count": null,
   "metadata": {},
   "outputs": [],
   "source": [
    "m = matlab.engine.connect_matlab('MATLAB_19984')"
   ]
  },
  {
   "cell_type": "code",
   "execution_count": null,
   "metadata": {},
   "outputs": [],
   "source": [
    "m.evalc(\"x=0\", nargout = 0)"
   ]
  },
  {
   "cell_type": "code",
   "execution_count": null,
   "metadata": {},
   "outputs": [],
   "source": [
    "m.workspace['x']"
   ]
  },
  {
   "cell_type": "markdown",
   "metadata": {},
   "source": [
    "place a breakpoint in `predictAirQual.m` for visual debugging"
   ]
  },
  {
   "cell_type": "code",
   "execution_count": null,
   "metadata": {},
   "outputs": [],
   "source": [
    "aq = m.predictAirQual(data)\n",
    "print(aq)"
   ]
  },
  {
   "cell_type": "markdown",
   "metadata": {},
   "source": [
    "## Exit the MATLAB engine"
   ]
  },
  {
   "cell_type": "code",
   "execution_count": null,
   "metadata": {},
   "outputs": [],
   "source": [
    "m.exit()"
   ]
  },
  {
   "cell_type": "markdown",
   "metadata": {},
   "source": [
    "Copyright 2019 - 2021 The MathWorks, Inc."
   ]
  }
 ],
 "metadata": {
  "interpreter": {
   "hash": "ea6d1940014d46e3b1cd608dc01a4850dba11d686206642561c1002c1523c34d"
  },
  "kernelspec": {
   "display_name": "Python 3.7.3 64-bit ('base': conda)",
   "name": "python3"
  },
  "language_info": {
   "codemirror_mode": {
    "name": "ipython",
    "version": 3
   },
   "file_extension": ".py",
   "mimetype": "text/x-python",
   "name": "python",
   "nbconvert_exporter": "python",
   "pygments_lexer": "ipython3",
   "version": "3.11.8"
  }
 },
 "nbformat": 4,
 "nbformat_minor": 2
}
